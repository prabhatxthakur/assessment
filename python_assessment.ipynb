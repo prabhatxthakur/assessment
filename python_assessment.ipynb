{
 "cells": [
  {
   "cell_type": "code",
   "execution_count": null,
   "id": "913eba5c-e141-4959-a50b-1d07ede07fda",
   "metadata": {},
   "outputs": [],
   "source": [
    "#Q6 : Python Questions"
   ]
  },
  {
   "cell_type": "code",
   "execution_count": null,
   "id": "aeb3caa2-d59a-4938-9477-aee24c65f515",
   "metadata": {},
   "outputs": [],
   "source": [
    "import pandas as pd"
   ]
  },
  {
   "cell_type": "code",
   "execution_count": null,
   "id": "0a54e7e9-0cb4-4c88-bfe7-6cfbb7c400a5",
   "metadata": {},
   "outputs": [],
   "source": [
    "table_a = pd.read_csv(r'C:\\Users\\thaprabj\\Documents\\Table A.csv')"
   ]
  },
  {
   "cell_type": "code",
   "execution_count": null,
   "id": "33ef06c6-e54c-4f32-b184-44e33b82efb2",
   "metadata": {},
   "outputs": [],
   "source": [
    "table_c = pd.read_csv(r'C:\\Users\\thaprabj\\Documents\\Table C.csv')"
   ]
  },
  {
   "cell_type": "code",
   "execution_count": null,
   "id": "8ec312bb-1a7e-42f9-98ae-cdf1a04d6c2b",
   "metadata": {},
   "outputs": [],
   "source": [
    "table_a. head()"
   ]
  },
  {
   "cell_type": "code",
   "execution_count": null,
   "id": "e06257a3-4862-4ea2-86d6-7f290390ae25",
   "metadata": {},
   "outputs": [],
   "source": [
    "table_c.head()"
   ]
  },
  {
   "cell_type": "code",
   "execution_count": null,
   "id": "c9e83f08-da22-45ff-a335-4fbee6583046",
   "metadata": {},
   "outputs": [],
   "source": [
    "# Q6.a. Find the forecast & actual that each DC processes in a week\n",
    "\n",
    "dc_weekly_totals = table_a.groupby(['dc_id', 'acct_wk_i']).agg({\n",
    "    'actual_qty': 'sum',\n",
    "    'fcst_qty': 'sum' }).reset_index()\n",
    "\n",
    "print (dc_weekly_totals)"
   ]
  },
  {
   "cell_type": "code",
   "execution_count": null,
   "id": "5d3526d7-0c22-4585-a1f7-2c79f64e875b",
   "metadata": {},
   "outputs": [],
   "source": [
    "# Q6.b. Calculate the share % of each DC with respect to all DCs in a week\n",
    "\n",
    "\n",
    "weekly_totals_all_dcs = table_a.groupby('acct_wk_i').agg({\n",
    "    'actual_qty': 'sum'\n",
    "}).reset_index().rename(columns={\n",
    "    'actual_qty': 'total_actual_qty'\n",
    "})\n",
    "\n",
    "dc_weekly_totals = dc_weekly_totals.reset_index()\n",
    "if 'total_actual_qty' in dc_weekly_totals.columns:\n",
    "    dc_weekly_totals = dc_weekly_totals.rename(columns={'total_actual_qty': 'dc_total_actual_qty'})\n",
    "\n",
    "dc_weekly_totals = dc_weekly_totals.merge(weekly_totals_all_dcs, on='acct_wk_i')\n",
    "\n",
    "dc_weekly_totals['actual_share_percent'] = (\n",
    "    dc_weekly_totals['actual_qty'] / dc_weekly_totals['total_actual_qty']\n",
    ") * 100\n",
    "\n",
    "print(dc_weekly_totals[['dc_id', 'acct_wk_i', 'actual_share_percent']])\n"
   ]
  },
  {
   "cell_type": "code",
   "execution_count": null,
   "id": "75f4356b-927a-4869-a821-9f4a451a7e32",
   "metadata": {},
   "outputs": [],
   "source": [
    "#Q6.c. Plot a trend chart of this share for each DC\n",
    "\n",
    "import matplotlib.pyplot as plt\n",
    "\n",
    "plt.figure(figsize=(10, 6))\n",
    "\n",
    "for dc in dc_weekly_totals['dc_id'].unique():\n",
    "    dc_data = dc_weekly_totals[dc_weekly_totals['dc_id'] == dc]\n",
    "    plt.plot(\n",
    "        dc_data['acct_wk_i'],\n",
    "        dc_data['actual_share_percent'],\n",
    "        marker='o',\n",
    "        label=f'DC {dc}'\n",
    "    )\n",
    "\n",
    "plt.title('Actual Share Percentage of Each DC Over Weeks')\n",
    "plt.xlabel('Week')\n",
    "plt.ylabel('Actual Share Percentage (%)')\n",
    "plt.xticks(dc_weekly_totals['acct_wk_i'].unique())\n",
    "plt.legend()\n",
    "plt.grid(True)"
   ]
  },
  {
   "cell_type": "code",
   "execution_count": null,
   "id": "fbd51b3c-411b-401f-833f-3c7255d34ad8",
   "metadata": {},
   "outputs": [],
   "source": []
  }
 ],
 "metadata": {
  "kernelspec": {
   "display_name": "Python 3 (ipykernel)",
   "language": "python",
   "name": "python3"
  },
  "language_info": {
   "codemirror_mode": {
    "name": "ipython",
    "version": 3
   },
   "file_extension": ".py",
   "mimetype": "text/x-python",
   "name": "python",
   "nbconvert_exporter": "python",
   "pygments_lexer": "ipython3",
   "version": "3.11.7"
  }
 },
 "nbformat": 4,
 "nbformat_minor": 5
}
